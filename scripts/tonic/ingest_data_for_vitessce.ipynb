{
 "cells": [
  {
   "cell_type": "markdown",
   "metadata": {},
   "source": [
    "# Data Ingestion, FOV Filtering, and ZARR File Generation"
   ]
  },
  {
   "cell_type": "code",
   "execution_count": 1,
   "metadata": {},
   "outputs": [],
   "source": [
    "%load_ext autoreload\n",
    "%autoreload 2"
   ]
  },
  {
   "cell_type": "code",
   "execution_count": 14,
   "metadata": {},
   "outputs": [],
   "source": [
    "import warnings\n",
    "\n",
    "import buckaroo  # type: ignore  # noqa: F401\n",
    "import natsort as ns\n",
    "import pandas as pd\n",
    "from tqdm.auto import tqdm\n",
    "from upath import UPath\n",
    "\n",
    "import angelolab_vitessce as av"
   ]
  },
  {
   "cell_type": "markdown",
   "metadata": {},
   "source": [
    "## File / Data Setup"
   ]
  },
  {
   "cell_type": "code",
   "execution_count": 15,
   "metadata": {},
   "outputs": [],
   "source": [
    "ngw_tonic = UPath(\"/Volumes/Shared/Noah Greenwald/TONIC_Cohort\")\n",
    "\n",
    "cell_table_path = ngw_tonic / \"analysis_files/combined_cell_table_normalized_cell_labels_updated.csv\"\n",
    "\n",
    "cell_compartment_table_path = ngw_tonic / \"intermediate_files/mask_dir/cell_annotation_mask.csv\"\n",
    "harmonized_metadata_path = ngw_tonic / \"analysis_files/harmonized_metadata.csv\"\n",
    "fov_dir = ngw_tonic / \"image_data/samples\"\n",
    "cell_compartment_dir = ngw_tonic / \"intermediate_files/mask_dir/individual_masks_no_tagg_tls\"\n",
    "segmentation_dir = ngw_tonic / \"segmentation_data/deepcell_output\"\n",
    "vitessce_ingestible_data_dir = UPath(\"../../data/tonic/vitessce_ingestable\")"
   ]
  },
  {
   "cell_type": "markdown",
   "metadata": {},
   "source": [
    "### Select FOVs\n",
    "\n",
    "\n",
    "Select FOVs by filtering to only include those with associated MIBI Data.\n",
    "Subset those FOVs by only including the following time points:\n",
    "-  *baseline*\n",
    "-  *primary*\n",
    "-  *pre_nivo*\n",
    "-  *on_nivo*\n",
    "\n",
    "\n",
    "Use the Harmonized Metadata file."
   ]
  },
  {
   "cell_type": "code",
   "execution_count": 16,
   "metadata": {},
   "outputs": [],
   "source": [
    "harmonized_metadata_df = pd.read_csv(harmonized_metadata_path)"
   ]
  },
  {
   "cell_type": "code",
   "execution_count": 17,
   "metadata": {},
   "outputs": [],
   "source": [
    "timepoints = [\"baseline\", \"primary\", \"pre_nivo\", \"on_nivo\"]"
   ]
  },
  {
   "cell_type": "code",
   "execution_count": 18,
   "metadata": {},
   "outputs": [],
   "source": [
    "cell_compartment_table_df = pd.read_csv(cell_compartment_table_path)\n",
    "\n",
    "cross_tab_cell_compartment_table_df = pd.crosstab(\n",
    "    cell_compartment_table_df[\"fov\"],\n",
    "    cell_compartment_table_df[\"mask_name\"],\n",
    ").reset_index()"
   ]
  },
  {
   "cell_type": "markdown",
   "metadata": {},
   "source": [
    "Select 5 FOVs from each of the timepoints where immune_agg is 0."
   ]
  },
  {
   "cell_type": "code",
   "execution_count": 19,
   "metadata": {},
   "outputs": [],
   "source": [
    "sample_fovs_df: pd.DataFrame = (\n",
    "    harmonized_metadata_df.sort_values(by=\"fov\", key=ns.natsort_keygen())\n",
    "    .reset_index(drop=True)\n",
    "    .drop(columns=[\"MIBI_data_generated\"])\n",
    "    .merge(right=cross_tab_cell_compartment_table_df, on=\"fov\")\n",
    "    .groupby(\n",
    "        \"Timepoint\",\n",
    "    )\n",
    "    .apply(lambda dfg: dfg.sort_values(by=[\"immune_agg\"], ascending=True)[:5], include_groups=False)\n",
    ")"
   ]
  },
  {
   "cell_type": "code",
   "execution_count": 20,
   "metadata": {},
   "outputs": [],
   "source": [
    "fovs_subset = ns.natsorted(sample_fovs_df[\"fov\"].tolist())"
   ]
  },
  {
   "cell_type": "code",
   "execution_count": 21,
   "metadata": {},
   "outputs": [],
   "source": [
    "fovs_subset = ns.natsorted(\n",
    "    [\n",
    "        \"TONIC_TMA2_R1C3\",\n",
    "        \"TONIC_TMA2_R2C1\",\n",
    "        \"TONIC_TMA2_R4C1\",\n",
    "        \"TONIC_TMA2_R4C6\",\n",
    "        \"TONIC_TMA13_R10C1\",\n",
    "        \"TONIC_TMA13_R11C3\",\n",
    "        \"TONIC_TMA13_R11C4\",\n",
    "        \"TONIC_TMA13_R11C5\",\n",
    "        \"TONIC_TMA14_R7C2\",\n",
    "        \"TONIC_TMA14_R7C3\",\n",
    "        \"TONIC_TMA14_R7C4\",\n",
    "        \"TONIC_TMA14_R10C1\",\n",
    "        \"TONIC_TMA14_R10C2\",\n",
    "        \"TONIC_TMA14_R10C4\",\n",
    "        \"TONIC_TMA14_R11C4\",\n",
    "        \"TONIC_TMA14_R11C5\",\n",
    "        \"TONIC_TMA14_R12C3\",\n",
    "        \"TONIC_TMA15_R2C4\",\n",
    "        \"TONIC_TMA15_R3C2\",\n",
    "        \"TONIC_TMA15_R6C4\",\n",
    "    ]\n",
    ")"
   ]
  },
  {
   "cell_type": "markdown",
   "metadata": {},
   "source": [
    "## Channels"
   ]
  },
  {
   "cell_type": "code",
   "execution_count": 22,
   "metadata": {},
   "outputs": [],
   "source": [
    "used_channels = [\n",
    "    \"CD3\",\n",
    "    \"CD4\",\n",
    "    \"CD8\",\n",
    "    \"CD11c\",\n",
    "    \"CD14\",\n",
    "    \"CD20\",\n",
    "    \"CD31\",\n",
    "    \"CD45\",\n",
    "    \"CD56\",\n",
    "    \"CD68\",\n",
    "    \"CD163\",\n",
    "    \"CK17\",\n",
    "    \"Calprotectin\",\n",
    "    \"ChyTr\",\n",
    "    \"Collagen1\",\n",
    "    \"ECAD\",\n",
    "    \"FAP\",\n",
    "    \"FOXP3\",\n",
    "    \"Fibronectin\",\n",
    "    \"H3K9ac\",\n",
    "    \"H3K27me3\",\n",
    "    \"HLADR\",\n",
    "    \"SMA\",\n",
    "    \"Vim\",\n",
    "]\n",
    "channel_color_map = {\n",
    "    \"CD3\": \"cf6275\",  # rose\n",
    "    \"CD4\": \"c65102\",  # dark orange\n",
    "    \"CD8\": \"acbf69\",  # light olive\n",
    "    \"CD11c\": \"c79fef\",  # lavender\n",
    "    \"CD14\": \"ae7181\",  # mauve\n",
    "    \"CD20\": \"c20078\",  # magenta\n",
    "    \"CD31\": \"610023\",  # burgundy\n",
    "    \"CD45\": \"d5b60a\",  # dark yellow\n",
    "    \"CD56\": \"a83c09\",  # rust\n",
    "    \"CD68\": \"ffffc2\",  # cream\n",
    "    \"CD163\": \"650021\",  # maroon\n",
    "    \"CK17\": \"05696b\",  # dark aqua\n",
    "    \"Calprotectin\": \"f97306\",  # orange\n",
    "    \"ChyTr\": \"ca6641\",  # terracotta\n",
    "    \"Collagen1\": \"028f1e\",  # emerald green\n",
    "    \"ECAD\": \"ffffd4\",  # eggshell\n",
    "    \"FAP\": \"ffb16d\",  # apricot\n",
    "    \"FOXP3\": \"bb3f3f\",  # dull red\n",
    "    \"Fibronectin\": \"de0c62\",  # cerise\n",
    "    \"H3K9ac\": \"0485d1\",  # cerulean\n",
    "    \"H3K27me3\": \"047495\",  # sea blue\n",
    "    \"HLADR\": \"feb308\",  # amber\n",
    "    \"SMA\": \"a6814c\",  # coffee\n",
    "    \"Vim\": \"c9ae74\",  # sandstone\n",
    "}"
   ]
  },
  {
   "cell_type": "markdown",
   "metadata": {},
   "source": [
    "## Convert Cell Table to AnnData Tables"
   ]
  },
  {
   "cell_type": "code",
   "execution_count": 23,
   "metadata": {},
   "outputs": [],
   "source": [
    "cell_table_df = pd.read_csv(cell_table_path)"
   ]
  },
  {
   "cell_type": "code",
   "execution_count": 25,
   "metadata": {},
   "outputs": [
    {
     "data": {
      "application/vnd.jupyter.widget-view+json": {
       "model_id": "0f68ba2cf5184c43a58eb53feb0cfc8e",
       "version_major": 2,
       "version_minor": 0
      },
      "text/plain": [
       "  0%|          | 0/20 [00:00<?, ?it/s]"
      ]
     },
     "metadata": {},
     "output_type": "display_data"
    }
   ],
   "source": [
    "for fov in tqdm(fovs_subset):\n",
    "    fov_ct = av.tonic.extract_fov_table(\n",
    "        cell_table_df=cell_table_df, cell_compartment_df=cell_compartment_table_df, fov=fov\n",
    "    )\n",
    "    with warnings.catch_warnings():\n",
    "        warnings.simplefilter(\"ignore\", category=UserWarning)\n",
    "        av.tonic.optimize_and_write_adata(\n",
    "            fov_df=fov_ct,\n",
    "            fov=fov,\n",
    "            vitessce_fovs_path=vitessce_ingestible_data_dir,\n",
    "            segmentation_dir=segmentation_dir,\n",
    "            var_cols=used_channels,\n",
    "            obs_cols=[\"cell_cluster_broad\", \"cell_cluster\", \"cell_meta_cluster\", \"compartment\"],\n",
    "        )"
   ]
  },
  {
   "cell_type": "markdown",
   "metadata": {},
   "source": [
    "## Segmentation Masks, and Compartments"
   ]
  },
  {
   "cell_type": "code",
   "execution_count": 26,
   "metadata": {},
   "outputs": [
    {
     "data": {
      "application/vnd.jupyter.widget-view+json": {
       "model_id": "ac7030f32843414f9c6c06df50135ce9",
       "version_major": 2,
       "version_minor": 0
      },
      "text/plain": [
       "  0%|          | 0/20 [00:00<?, ?it/s]"
      ]
     },
     "metadata": {},
     "output_type": "display_data"
    }
   ],
   "source": [
    "for fov in tqdm(fovs_subset):\n",
    "    av.tonic.convert_segmentation_to_zarr(\n",
    "        fov=fov,\n",
    "        segmentation_mask_type=\"cell_segmentation\",\n",
    "        segmentation_dir=segmentation_dir,\n",
    "        vitessce_fovs_path=vitessce_ingestible_data_dir,\n",
    "    )\n",
    "    av.tonic.convert_segmentation_to_zarr(\n",
    "        fov=fov,\n",
    "        segmentation_mask_type=\"compartment\",\n",
    "        segmentation_dir=cell_compartment_dir,\n",
    "        vitessce_fovs_path=vitessce_ingestible_data_dir,\n",
    "    )"
   ]
  },
  {
   "cell_type": "markdown",
   "metadata": {},
   "source": [
    "## Images"
   ]
  },
  {
   "cell_type": "code",
   "execution_count": 27,
   "metadata": {},
   "outputs": [
    {
     "data": {
      "application/vnd.jupyter.widget-view+json": {
       "model_id": "745ab459fd18440ebba82c597a384933",
       "version_major": 2,
       "version_minor": 0
      },
      "text/plain": [
       "  0%|          | 0/20 [00:00<?, ?it/s]"
      ]
     },
     "metadata": {},
     "output_type": "display_data"
    }
   ],
   "source": [
    "for fov in tqdm(fovs_subset):\n",
    "    av.tonic.convert_fov_to_zarr(\n",
    "        fovs_dir=fov_dir,\n",
    "        fov=fov,\n",
    "        vitessce_fovs_path=vitessce_ingestible_data_dir,\n",
    "        channels=used_channels,\n",
    "        channel_colormap=channel_color_map,\n",
    "    )"
   ]
  },
  {
   "cell_type": "code",
   "execution_count": null,
   "metadata": {},
   "outputs": [],
   "source": []
  }
 ],
 "metadata": {
  "kernelspec": {
   "display_name": ".venv",
   "language": "python",
   "name": "python3"
  },
  "language_info": {
   "codemirror_mode": {
    "name": "ipython",
    "version": 3
   },
   "file_extension": ".py",
   "mimetype": "text/x-python",
   "name": "python",
   "nbconvert_exporter": "python",
   "pygments_lexer": "ipython3",
   "version": "3.11.7"
  }
 },
 "nbformat": 4,
 "nbformat_minor": 2
}
