{
 "cells": [
  {
   "cell_type": "markdown",
   "metadata": {},
   "source": [
    "# Data Ingestion, FOV Filtering, and ZARR File Generation"
   ]
  },
  {
   "cell_type": "code",
   "execution_count": 19,
   "metadata": {},
   "outputs": [
    {
     "name": "stdout",
     "output_type": "stream",
     "text": [
      "The autoreload extension is already loaded. To reload it, use:\n",
      "  %reload_ext autoreload\n"
     ]
    }
   ],
   "source": [
    "%load_ext autoreload\n",
    "%autoreload 2"
   ]
  },
  {
   "cell_type": "code",
   "execution_count": 20,
   "metadata": {},
   "outputs": [],
   "source": [
    "from pathlib import Path\n",
    "\n",
    "import buckaroo  # type: ignore  # noqa: F401\n",
    "import natsort as ns\n",
    "import numpy as np\n",
    "import pandas as pd\n",
    "from tqdm.auto import tqdm\n",
    "\n",
    "import tonic_vitessce as tv"
   ]
  },
  {
   "cell_type": "markdown",
   "metadata": {},
   "source": [
    "## File / Data Setup"
   ]
  },
  {
   "cell_type": "code",
   "execution_count": 21,
   "metadata": {},
   "outputs": [],
   "source": [
    "cell_table_path = Path(\n",
    "    \"/Volumes/Shared/Noah Greenwald/TONIC_Cohort/analysis_files/combined_cell_table_normalized_cell_labels_updated.csv\"\n",
    ")\n",
    "cell_compartment_table_path = Path(\n",
    "    \"/Volumes/Shared/Noah Greenwald/TONIC_Cohort/intermediate_files/mask_dir/cell_annotation_mask.csv\"\n",
    ")\n",
    "harmonized_metadata_path = Path(\"/Volumes/Shared/Noah Greenwald/TONIC_Cohort/analysis_files/harmonized_metadata.csv\")\n",
    "fov_dir = Path(\"/Volumes/Shared/Noah Greenwald/TONIC_Cohort/image_data/samples\")\n",
    "cell_compartment_dir = Path(\n",
    "    \"/Volumes/Shared/Noah Greenwald/TONIC_Cohort/intermediate_files/mask_dir/individual_masks_no_tagg_tls\"\n",
    ")\n",
    "segmentation_dir = Path(\"/Volumes/Shared/Noah Greenwald/TONIC_Cohort/segmentation_data/deepcell_output\")\n",
    "vitessce_ingestible_data_dir = Path(\"../data/vitessce_ingestable\")"
   ]
  },
  {
   "cell_type": "code",
   "execution_count": 22,
   "metadata": {},
   "outputs": [],
   "source": [
    "# Constants\n",
    "rng = np.random.default_rng(12345)\n",
    "N_FOVS = 10"
   ]
  },
  {
   "cell_type": "markdown",
   "metadata": {},
   "source": [
    "### Select FOVs\n",
    "\n",
    "\n",
    "Select FOVs by filtering to only include those with associated MIBI Data.\n",
    "Subset those FOVs by only including the following time points:\n",
    "-  *baseline*\n",
    "-  *primary*\n",
    "-  *pre_nivo*\n",
    "-  *on_nivo*\n",
    "\n",
    "\n",
    "Use the Harmonized Metadata file."
   ]
  },
  {
   "cell_type": "code",
   "execution_count": 23,
   "metadata": {},
   "outputs": [
    {
     "data": {
      "application/vnd.jupyter.widget-view+json": {
       "model_id": "190e6891d57244b3b24d35e6b8e47873",
       "version_major": 2,
       "version_minor": 0
      },
      "text/plain": [
       "BuckarooWidget(buckaroo_options={'sampled': ['random'], 'auto_clean': ['aggressive', 'conservative'], 'post_pr…"
      ]
     },
     "metadata": {},
     "output_type": "display_data"
    }
   ],
   "source": [
    "harmonized_metadata_df = pd.read_csv(harmonized_metadata_path)\n",
    "harmonized_metadata_df"
   ]
  },
  {
   "cell_type": "code",
   "execution_count": 24,
   "metadata": {},
   "outputs": [],
   "source": [
    "timepoints = [\"baseline\", \"primary\", \"pre_nivo\", \"on_nivo\"]"
   ]
  },
  {
   "cell_type": "code",
   "execution_count": 25,
   "metadata": {},
   "outputs": [],
   "source": [
    "mibi_data = (\n",
    "    harmonized_metadata_df.query(\"MIBI_data_generated == True\")\n",
    "    .sort_values(by=\"fov\", key=ns.natsort_keygen())\n",
    "    .reset_index(drop=True)\n",
    "    .drop(columns=[\"MIBI_data_generated\"])\n",
    "    .pipe(lambda df: df[df[\"Timepoint\"].isin(timepoints)])\n",
    ")"
   ]
  },
  {
   "cell_type": "code",
   "execution_count": 26,
   "metadata": {},
   "outputs": [],
   "source": [
    "sample_fovs_df = mibi_data.sample(n=N_FOVS, random_state=rng)"
   ]
  },
  {
   "cell_type": "code",
   "execution_count": 27,
   "metadata": {},
   "outputs": [],
   "source": [
    "fovs_subset = sample_fovs_df[\"fov\"].tolist()"
   ]
  },
  {
   "cell_type": "code",
   "execution_count": 28,
   "metadata": {},
   "outputs": [],
   "source": [
    "fovs_subset = ns.natsorted(\n",
    "    [\n",
    "        \"TONIC_TMA7_R4C6\",\n",
    "        \"TONIC_TMA18_R2C3\",\n",
    "        \"TONIC_TMA9_R4C6\",\n",
    "        \"TONIC_TMA14_R7C6\",\n",
    "        \"TONIC_TMA15_R10C1\",\n",
    "        \"TONIC_TMA5_R5C1\",\n",
    "        \"TONIC_TMA15_R7C2\",\n",
    "        \"TONIC_TMA5_R1C2\",\n",
    "        \"TONIC_TMA17_R12C4\",\n",
    "        \"TONIC_TMA23_R10C1\",\n",
    "    ]\n",
    ")"
   ]
  },
  {
   "cell_type": "markdown",
   "metadata": {},
   "source": [
    "## Channels"
   ]
  },
  {
   "cell_type": "code",
   "execution_count": 33,
   "metadata": {},
   "outputs": [
    {
     "data": {
      "application/vnd.jupyter.widget-view+json": {
       "model_id": "7ef7a004932640b8b4049d36be2dba3a",
       "version_major": 2,
       "version_minor": 0
      },
      "text/plain": [
       "BuckarooWidget(buckaroo_options={'sampled': ['random'], 'auto_clean': ['aggressive', 'conservative'], 'post_pr…"
      ]
     },
     "metadata": {},
     "output_type": "display_data"
    }
   ],
   "source": [
    "harmonized_metadata_df[harmonized_metadata_df[\"fov\"].isin(fovs_subset)].sort_values(by=\"fov\", key=ns.natsort_keygen())[\n",
    "    [\"fov\", \"Timepoint\", \"Localization\"]\n",
    "]"
   ]
  },
  {
   "cell_type": "code",
   "execution_count": 54,
   "metadata": {},
   "outputs": [],
   "source": [
    "channels = [\n",
    "    # \"Au\",\n",
    "    \"Calprotectin\",\n",
    "    \"CD11c\",\n",
    "    \"CD14\",\n",
    "    \"CD163\",\n",
    "    \"CD20\",\n",
    "    \"CD3\",\n",
    "    \"CD31\",\n",
    "    # \"CD38\",\n",
    "    \"CD4\",\n",
    "    \"CD45\",\n",
    "    # \"CD45RB\",\n",
    "    # \"CD45RO\",\n",
    "    \"CD56\",\n",
    "    # \"CD57\",\n",
    "    \"CD68\",\n",
    "    # \"CD69\",\n",
    "    \"CD8\",\n",
    "    # \"chan_115\",\n",
    "    # \"chan_141\",\n",
    "    # \"chan_39\",\n",
    "    # \"chan_45\",\n",
    "    # \"chan_48\",\n",
    "    \"ChyTr\",\n",
    "    \"CK17\",\n",
    "    \"Collagen1\",\n",
    "    \"ECAD\",\n",
    "    \"FAP\",\n",
    "    # \"Fe\",\n",
    "    \"Fibronectin\",\n",
    "    \"FOXP3\",\n",
    "    # \"GLUT1\",\n",
    "    \"H3K27me3\",\n",
    "    \"H3K9ac\",\n",
    "    # \"HLA1\",\n",
    "    \"HLADR\",\n",
    "    # \"IDO\",\n",
    "    # \"Ki67\",\n",
    "    # \"LAG3\",\n",
    "    # \"Noodle\",\n",
    "    # \"PD1\",\n",
    "    # \"PDL1\",\n",
    "    \"SMA\",\n",
    "    # \"TBET\",\n",
    "    # \"TCF1\",\n",
    "    # \"TIM3\",\n",
    "    \"Vim\",\n",
    "]\n",
    "used_channels = [\n",
    "    \"CD3\",\n",
    "    \"CD4\",\n",
    "    \"CD8\",\n",
    "    \"CD11c\",\n",
    "    \"CD14\",\n",
    "    \"CD20\",\n",
    "    \"CD31\",\n",
    "    \"CD45\",\n",
    "    \"CD56\",\n",
    "    \"CD68\",\n",
    "    \"CD163\",\n",
    "    \"CK17\",\n",
    "    \"Calprotectin\",\n",
    "    \"ChyTr\",\n",
    "    \"Collagen1\",\n",
    "    \"ECAD\",\n",
    "    \"FAP\",\n",
    "    \"FOXP3\",\n",
    "    \"Fibronectin\",\n",
    "    \"H3K9ac\",\n",
    "    \"H3K27me3\",\n",
    "    \"HLADR\",\n",
    "    \"SMA\",\n",
    "    \"Vim\",\n",
    "]\n",
    "channel_color_map = {\n",
    "    \"CD3\": \"cf6275\",  # rose\n",
    "    \"CD4\": \"c65102\",  # dark orange\n",
    "    \"CD8\": \"acbf69\",  # light olive\n",
    "    \"CD11c\": \"c79fef\",  # lavender\n",
    "    \"CD14\": \"ae7181\",  # mauve\n",
    "    \"CD20\": \"c20078\",  # magenta\n",
    "    \"CD31\": \"610023\",  # burgundy\n",
    "    \"CD45\": \"d5b60a\",  # dark yellow\n",
    "    \"CD56\": \"a83c09\",  # rust\n",
    "    \"CD68\": \"ffffc2\",  # cream\n",
    "    \"CD163\": \"650021\",  # maroon\n",
    "    \"CK17\": \"05696b\",  # dark aqua\n",
    "    \"Calprotectin\": \"f97306\",  # orange\n",
    "    \"ChyTr\": \"ca6641\",  # terracotta\n",
    "    \"Collagen1\": \"028f1e\",  # emerald green\n",
    "    \"ECAD\": \"ffffd4\",  # eggshell\n",
    "    \"FAP\": \"ffb16d\",  # apricot\n",
    "    \"FOXP3\": \"bb3f3f\",  # dull red\n",
    "    \"Fibronectin\": \"de0c62\",  # cerise\n",
    "    \"H3K9ac\": \"0485d1\",  # cerulean\n",
    "    \"H3K27me3\": \"047495\",  # sea blue\n",
    "    \"HLADR\": \"feb308\",  # amber\n",
    "    \"SMA\": \"a6814c\",  # coffee\n",
    "    \"Vim\": \"c9ae74\",  # sandstone\n",
    "}"
   ]
  },
  {
   "cell_type": "markdown",
   "metadata": {},
   "source": [
    "## Convert Cell Table to AnnData Tables"
   ]
  },
  {
   "cell_type": "code",
   "execution_count": 42,
   "metadata": {},
   "outputs": [],
   "source": [
    "# cell_table_df = pd.read_csv(cell_table_path, usecols=[*tv.WholeCellTableColumns])\n",
    "cell_table_df = pd.read_csv(cell_table_path)"
   ]
  },
  {
   "cell_type": "code",
   "execution_count": 37,
   "metadata": {},
   "outputs": [
    {
     "data": {
      "application/vnd.jupyter.widget-view+json": {
       "model_id": "38b80b1b07e446e5a1bffba66c87213f",
       "version_major": 2,
       "version_minor": 0
      },
      "text/plain": [
       "BuckarooWidget(buckaroo_options={'sampled': ['random'], 'auto_clean': ['aggressive', 'conservative'], 'post_pr…"
      ]
     },
     "metadata": {},
     "output_type": "display_data"
    }
   ],
   "source": [
    "cell_table_df"
   ]
  },
  {
   "cell_type": "code",
   "execution_count": 43,
   "metadata": {},
   "outputs": [],
   "source": [
    "cell_compartment_table_df = pd.read_csv(cell_compartment_table_path)"
   ]
  },
  {
   "cell_type": "code",
   "execution_count": 56,
   "metadata": {},
   "outputs": [
    {
     "data": {
      "application/vnd.jupyter.widget-view+json": {
       "model_id": "9ffd4dbe72224b86bd3bb54a1eab81c9",
       "version_major": 2,
       "version_minor": 0
      },
      "text/plain": [
       "  0%|          | 0/10 [00:00<?, ?it/s]"
      ]
     },
     "metadata": {},
     "output_type": "display_data"
    },
    {
     "name": "stderr",
     "output_type": "stream",
     "text": [
      "/Users/srivarra/Angelo Lab/tonic-vitessce/.venv/lib/python3.11/site-packages/anndata/_core/aligned_df.py:67: ImplicitModificationWarning: Transforming to str index.\n",
      "  warnings.warn(\"Transforming to str index.\", ImplicitModificationWarning)\n",
      "/Users/srivarra/Angelo Lab/tonic-vitessce/.venv/lib/python3.11/site-packages/anndata/_core/aligned_df.py:67: ImplicitModificationWarning: Transforming to str index.\n",
      "  warnings.warn(\"Transforming to str index.\", ImplicitModificationWarning)\n",
      "/Users/srivarra/Angelo Lab/tonic-vitessce/.venv/lib/python3.11/site-packages/anndata/_core/aligned_df.py:67: ImplicitModificationWarning: Transforming to str index.\n",
      "  warnings.warn(\"Transforming to str index.\", ImplicitModificationWarning)\n",
      "/Users/srivarra/Angelo Lab/tonic-vitessce/.venv/lib/python3.11/site-packages/anndata/_core/aligned_df.py:67: ImplicitModificationWarning: Transforming to str index.\n",
      "  warnings.warn(\"Transforming to str index.\", ImplicitModificationWarning)\n",
      "/Users/srivarra/Angelo Lab/tonic-vitessce/.venv/lib/python3.11/site-packages/anndata/_core/aligned_df.py:67: ImplicitModificationWarning: Transforming to str index.\n",
      "  warnings.warn(\"Transforming to str index.\", ImplicitModificationWarning)\n",
      "/Users/srivarra/Angelo Lab/tonic-vitessce/.venv/lib/python3.11/site-packages/anndata/_core/aligned_df.py:67: ImplicitModificationWarning: Transforming to str index.\n",
      "  warnings.warn(\"Transforming to str index.\", ImplicitModificationWarning)\n",
      "/Users/srivarra/Angelo Lab/tonic-vitessce/.venv/lib/python3.11/site-packages/anndata/_core/aligned_df.py:67: ImplicitModificationWarning: Transforming to str index.\n",
      "  warnings.warn(\"Transforming to str index.\", ImplicitModificationWarning)\n",
      "/Users/srivarra/Angelo Lab/tonic-vitessce/.venv/lib/python3.11/site-packages/anndata/_core/aligned_df.py:67: ImplicitModificationWarning: Transforming to str index.\n",
      "  warnings.warn(\"Transforming to str index.\", ImplicitModificationWarning)\n",
      "/Users/srivarra/Angelo Lab/tonic-vitessce/.venv/lib/python3.11/site-packages/anndata/_core/aligned_df.py:67: ImplicitModificationWarning: Transforming to str index.\n",
      "  warnings.warn(\"Transforming to str index.\", ImplicitModificationWarning)\n",
      "/Users/srivarra/Angelo Lab/tonic-vitessce/.venv/lib/python3.11/site-packages/anndata/_core/aligned_df.py:67: ImplicitModificationWarning: Transforming to str index.\n",
      "  warnings.warn(\"Transforming to str index.\", ImplicitModificationWarning)\n"
     ]
    }
   ],
   "source": [
    "for fov in tqdm(fovs_subset):\n",
    "    fov_ct = tv.tl.extract_fov_table(\n",
    "        cell_table_df=cell_table_df, cell_compartment_df=cell_compartment_table_df, fov=fov\n",
    "    )\n",
    "    tv.tl.optimize_and_write_adata(\n",
    "        fov_df=fov_ct,\n",
    "        fov=fov,\n",
    "        vitessce_fovs_path=vitessce_ingestible_data_dir,\n",
    "        segmentation_dir=segmentation_dir,\n",
    "        var_cols=channels,\n",
    "        obs_cols=[\"cell_cluster_broad\", \"cell_cluster\", \"cell_meta_cluster\", \"compartment\"],\n",
    "    )"
   ]
  },
  {
   "cell_type": "markdown",
   "metadata": {},
   "source": [
    "## Segmentation Masks, and Compartments"
   ]
  },
  {
   "cell_type": "code",
   "execution_count": 57,
   "metadata": {},
   "outputs": [
    {
     "data": {
      "application/vnd.jupyter.widget-view+json": {
       "model_id": "6ee65e8abea14916bf8f88056aa44b10",
       "version_major": 2,
       "version_minor": 0
      },
      "text/plain": [
       "  0%|          | 0/10 [00:00<?, ?it/s]"
      ]
     },
     "metadata": {},
     "output_type": "display_data"
    }
   ],
   "source": [
    "for fov in tqdm(fovs_subset):\n",
    "    tv.tl.convert_segmentation_to_zarr(\n",
    "        fov=fov,\n",
    "        segmentation_mask_type=\"cell_segmentation\",\n",
    "        segmentation_dir=segmentation_dir,\n",
    "        vitessce_fovs_path=vitessce_ingestible_data_dir,\n",
    "    )\n",
    "    # tv.tl.convert_segmentation_to_zarr(\n",
    "    #     fov=fov,\n",
    "    #     segmentation_mask_type=\"compartment\",\n",
    "    #     segmentation_dir=cell_compartment_dir,\n",
    "    #     file_type=\"ome-zarr\",\n",
    "    #     vitessce_fovs_path=vitessce_ingestible_data_dir,\n",
    "    # )"
   ]
  },
  {
   "cell_type": "markdown",
   "metadata": {},
   "source": [
    "## Images"
   ]
  },
  {
   "cell_type": "code",
   "execution_count": 58,
   "metadata": {},
   "outputs": [
    {
     "data": {
      "application/vnd.jupyter.widget-view+json": {
       "model_id": "81887ae2530f4dafabb5d9f502e778c1",
       "version_major": 2,
       "version_minor": 0
      },
      "text/plain": [
       "  0%|          | 0/10 [00:00<?, ?it/s]"
      ]
     },
     "metadata": {},
     "output_type": "display_data"
    }
   ],
   "source": [
    "for fov in tqdm(fovs_subset):\n",
    "    tv.tl.convert_fov_to_zarr(\n",
    "        fovs_dir=fov_dir,\n",
    "        fov=fov,\n",
    "        vitessce_fovs_path=vitessce_ingestible_data_dir,\n",
    "        channels=channels,\n",
    "        channel_colormap=channel_color_map,\n",
    "    )"
   ]
  },
  {
   "cell_type": "code",
   "execution_count": null,
   "metadata": {},
   "outputs": [],
   "source": []
  },
  {
   "cell_type": "code",
   "execution_count": null,
   "metadata": {},
   "outputs": [],
   "source": []
  }
 ],
 "metadata": {
  "kernelspec": {
   "display_name": ".venv",
   "language": "python",
   "name": "python3"
  },
  "language_info": {
   "codemirror_mode": {
    "name": "ipython",
    "version": 3
   },
   "file_extension": ".py",
   "mimetype": "text/x-python",
   "name": "python",
   "nbconvert_exporter": "python",
   "pygments_lexer": "ipython3",
   "version": "3.11.7"
  }
 },
 "nbformat": 4,
 "nbformat_minor": 2
}
